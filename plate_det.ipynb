{
 "cells": [
  {
   "cell_type": "code",
   "execution_count": null,
   "id": "48404781",
   "metadata": {},
   "outputs": [],
   "source": [
    "import cv2\n",
    "import pytesseract\n",
    "\n",
    "# Path to the Tesseract executable\n",
    "pytesseract.pytesseract.tesseract_cmd = \"C:\\\\Users\\\\Dell\\\\AppData\\\\Local\\\\Programs\\\\Tesseract-OCR\"\n",
    "\n",
    "def detect_and_recognize_license_plate(image_path):\n",
    "    # Load the image\n",
    "    img = cv2.imread(image_path)\n",
    "    \n",
    "    # Convert the image to grayscale\n",
    "    gray = cv2.cvtColor(img, cv2.COLOR_BGR2GRAY)\n",
    "    \n",
    "    # Apply Gaussian blur to reduce noise\n",
    "    gray = cv2.GaussianBlur(gray, (5, 5), 0)\n",
    "    \n",
    "    # Perform license plate detection using a pre-trained Haar cascade classifier\n",
    "    plate_cascade = cv2.CascadeClassifier(cv2.data.haarcascades + 'haarcascade_russian_plate_number.xml')\n",
    "    plates = plate_cascade.detectMultiScale(gray, 1.1, 4)\n",
    "    \n",
    "    # Iterate over detected license plates\n",
    "    for (x, y, w, h) in plates:\n",
    "        # Crop the detected license plate region\n",
    "        plate_img = img[y:y+h, x:x+w]\n",
    "        \n",
    "        # Perform OCR on the cropped license plate image\n",
    "        plate_text = pytesseract.image_to_string(plate_img, config='--psm 6')\n",
    "        \n",
    "        # Print the detected license plate text\n",
    "        print(\"Detected license plate number:\", plate_text)\n",
    "        \n",
    "        # Draw a rectangle around the detected license plate\n",
    "        cv2.rectangle(img, (x, y), (x + w, y + h), (0, 255, 0), 2)\n",
    "        \n",
    "        # Write the license plate text on the image\n",
    "        cv2.putText(img, plate_text, (x, y - 10), cv2.FONT_HERSHEY_SIMPLEX, 0.7, (0, 255, 0), 2)\n",
    "    \n",
    "    # Display the result\n",
    "    cv2.imshow(\"Detected License Plates\", img)\n",
    "    cv2.waitKey(0)\n",
    "    cv2.destroyAllWindows()\n",
    "\n",
    "# Example usage:\n",
    "image_path = \"E:\\\\number plate\\\\plates\\\\scaned_img_1.jpg\"\n",
    "detect_and_recognize_license_plate(image_path)\n"
   ]
  }
 ],
 "metadata": {
  "kernelspec": {
   "display_name": "Python 3 (ipykernel)",
   "language": "python",
   "name": "python3"
  },
  "language_info": {
   "codemirror_mode": {
    "name": "ipython",
    "version": 3
   },
   "file_extension": ".py",
   "mimetype": "text/x-python",
   "name": "python",
   "nbconvert_exporter": "python",
   "pygments_lexer": "ipython3",
   "version": "3.11.1"
  }
 },
 "nbformat": 4,
 "nbformat_minor": 5
}
