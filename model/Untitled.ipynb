{
 "cells": [
  {
   "cell_type": "code",
   "execution_count": null,
   "id": "16d89a32",
   "metadata": {},
   "outputs": [],
   "source": [
    "import cv2\n",
    "\n",
    "harcascade = \"E:\\\\number plate\\\\model\\\\haarcascade_russian_plate_number.xml\"\n",
    "\n",
    "cap = cv2.VideoCapture(0)\n",
    "# width\n",
    "cap.set(3,640)  \n",
    "cap.set(4, 480)  # height\n",
    "\n",
    "min_area = 500\n",
    "count = 0\n",
    "\n",
    "while True:\n",
    "    success, img = cap.read()\n",
    "    \n",
    "    plate_cascade = cv2.CascadeClassifier(harcascade)\n",
    "    img_grey = cv2.cvtColor(img, cv2.COLOR_BGR2GRAY)\n",
    "    \n",
    "    plates = plate_cascade.detectMultiScale(img_grey, 1.1, 4)\n",
    "    \n",
    "    for (x, y, w, h) in plates:\n",
    "        area = w * h\n",
    "        \n",
    "        if area > min_area:\n",
    "            cv2.rectangle(img, (x, y), (x + w, y + h), (0, 255, 0), 2)\n",
    "            cv2.putText(img, \"Number plate\", (x, y), cv2.FONT_HERSHEY_COMPLEX_SMALL, 1, (255, 0, 255), 2)\n",
    "            \n",
    "            img_roi = img[y: y + h, x: x + w]\n",
    "            cv2.imshow(\"ROI\", img_roi)\n",
    "\n",
    "            if cv2.waitKey(1) & 0xFF == ord('s'):\n",
    "                cv2.imwrite(\"plates/scaned_img_\" + str(count) + \".jpg\", img_roi)\n",
    "                cv2.rectangle(img, (0, 200), (640, 300), (0, 255, 0), cv2.FILLED)\n",
    "                cv2.putText(img, \"Plate Saved\", (150, 265), cv2.FONT_HERSHEY_COMPLEX_SMALL, 2, (0, 0, 255), 2)\n",
    "                cv2.imshow(\"Result\", img)\n",
    "                cv2.waitKey(500)\n",
    "                count += 1\n",
    "    \n",
    "    \n",
    "    cv2.imshow(\"result\", img)\n",
    "    if cv2.waitKey(1) & 0xFF == ord('q'):\n",
    "        break\n",
    "\n",
    "cap.release()\n",
    "cv2.destroyAllWindows()\n"
   ]
  },
  {
   "cell_type": "code",
   "execution_count": null,
   "id": "f35afc66",
   "metadata": {},
   "outputs": [],
   "source": [
    "import joblib \n",
    "# Save the model as a pickle in a file \n",
    "joblib.dump(best_clf, 'saved_model.pkl') "
   ]
  },
  {
   "cell_type": "code",
   "execution_count": null,
   "id": "d47edcac",
   "metadata": {},
   "outputs": [],
   "source": []
  }
 ],
 "metadata": {
  "kernelspec": {
   "display_name": "Python 3 (ipykernel)",
   "language": "python",
   "name": "python3"
  },
  "language_info": {
   "codemirror_mode": {
    "name": "ipython",
    "version": 3
   },
   "file_extension": ".py",
   "mimetype": "text/x-python",
   "name": "python",
   "nbconvert_exporter": "python",
   "pygments_lexer": "ipython3",
   "version": "3.11.1"
  }
 },
 "nbformat": 4,
 "nbformat_minor": 5
}
